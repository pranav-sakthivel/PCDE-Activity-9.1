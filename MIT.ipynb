{
 "cells": [
  {
   "attachments": {},
   "cell_type": "markdown",
   "metadata": {},
   "source": [
    "# The Massachusetts Institute of Technology (MIT)\n",
    "\n",
    "**Pranav Sakthivel**\n",
    "\n",
    "**GitHub username: pranav-sakthivel**\n",
    "\n",
    "The Massachusetts Institute of Technology (MIT) is a private university in Cambridge,\n",
    "Massachusetts. Established in 1861, MIT has since then been at the center of the\n",
    "development of modern technology and science. Since it was founded, MIT has been\n",
    "ranked among the top academic institutions in the world.\n",
    "\n",
    "The original MIT logo was created by Seymour Papert and it represents two figures symbolizing the fields of Science and Art. The image below displays the original logo."
   ]
  },
  {
   "attachments": {},
   "cell_type": "markdown",
   "metadata": {},
   "source": [
    "![image.png](attachment:image.png)"
   ]
  }
 ],
 "metadata": {
  "kernelspec": {
   "display_name": "Python 3",
   "language": "python",
   "name": "python3"
  },
  "language_info": {
   "codemirror_mode": {
    "name": "ipython",
    "version": 3
   },
   "file_extension": ".py",
   "mimetype": "text/x-python",
   "name": "python",
   "nbconvert_exporter": "python",
   "pygments_lexer": "ipython3",
   "version": "3.11.3"
  }
 },
 "nbformat": 4,
 "nbformat_minor": 4
}
